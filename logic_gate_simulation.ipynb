{
  "nbformat": 4,
  "nbformat_minor": 0,
  "metadata": {
    "colab": {
      "name": "Untitled3.ipynb",
      "provenance": [],
      "authorship_tag": "ABX9TyMXdw5IA3cShh58QCud8mYt",
      "include_colab_link": true
    },
    "kernelspec": {
      "name": "python3",
      "display_name": "Python 3"
    }
  },
  "cells": [
    {
      "cell_type": "markdown",
      "metadata": {
        "id": "view-in-github",
        "colab_type": "text"
      },
      "source": [
        "<a href=\"https://colab.research.google.com/github/arijeetchoudhury100/Logic_Gates_Neural_Network/blob/master/logic_gate_simulation.ipynb\" target=\"_parent\"><img src=\"https://colab.research.google.com/assets/colab-badge.svg\" alt=\"Open In Colab\"/></a>"
      ]
    },
    {
      "cell_type": "code",
      "metadata": {
        "id": "rMnlR-_rRie2",
        "colab_type": "code",
        "colab": {}
      },
      "source": [
        "#simulate AND,OR,NOT,NAND,NOR using single layer perceptron "
      ],
      "execution_count": 0,
      "outputs": []
    },
    {
      "cell_type": "code",
      "metadata": {
        "id": "WbzuQc5jRlz6",
        "colab_type": "code",
        "colab": {}
      },
      "source": [
        "import numpy as np"
      ],
      "execution_count": 0,
      "outputs": []
    },
    {
      "cell_type": "code",
      "metadata": {
        "id": "UE8Sri0BR2om",
        "colab_type": "code",
        "colab": {}
      },
      "source": [
        "def initialize(n_x):\n",
        "  W = np.zeros((1,n_x))\n",
        "  b = 0\n",
        "  return W,b"
      ],
      "execution_count": 0,
      "outputs": []
    },
    {
      "cell_type": "code",
      "metadata": {
        "id": "lKS6YdQPUILf",
        "colab_type": "code",
        "colab": {}
      },
      "source": [
        "def hardlim(n):\n",
        "  if n<0:\n",
        "    return 0\n",
        "  else:\n",
        "    return 1"
      ],
      "execution_count": 0,
      "outputs": []
    },
    {
      "cell_type": "code",
      "metadata": {
        "id": "iBhdefGzSS7y",
        "colab_type": "code",
        "colab": {}
      },
      "source": [
        "X_and = np.array([[0,0],[0,1],[1,0],[1,1]]).T\n",
        "y_and = np.array([0,0,0,1]).reshape(1,4)\n",
        "\n",
        "X_or = X_and\n",
        "y_or = np.array([0,1,1,1]).reshape(1,4)\n",
        "\n",
        "X_nand = X_and\n",
        "y_nand = np.array([1,1,1,0]).reshape(1,4)\n",
        "\n",
        "X_nor = X_and\n",
        "y_nor = np.array([1,0,0,0]).reshape(1,4)\n",
        "\n",
        "X_not = np.array([0,1]).reshape(1,2)\n",
        "y_not = np.array([1,0]).reshape(1,2)"
      ],
      "execution_count": 0,
      "outputs": []
    },
    {
      "cell_type": "code",
      "metadata": {
        "id": "na3qB_MAS-7N",
        "colab_type": "code",
        "colab": {}
      },
      "source": [
        "def model(X,y):\n",
        "  W , b = initialize(X.shape[0])\n",
        "  while True:\n",
        "    W_old = W\n",
        "    b_old = b\n",
        "    for i in range(X.shape[1]):\n",
        "      a = hardlim(np.dot(W,X[:,i].reshape(X.shape[0],1)) + b)\n",
        "      e = y[0][i] - a\n",
        "      W = W + e*X[:,i].reshape(1,X.shape[0])\n",
        "      b = b + e\n",
        "    if np.array_equal(W_old,W) and b_old == b:\n",
        "      break\n",
        "  return W,b"
      ],
      "execution_count": 0,
      "outputs": []
    },
    {
      "cell_type": "code",
      "metadata": {
        "id": "IOJH99K6UwKK",
        "colab_type": "code",
        "colab": {
          "base_uri": "https://localhost:8080/",
          "height": 52
        },
        "outputId": "75225050-37ad-4c9b-f884-872881c0b91e"
      },
      "source": [
        "W_and,b_and = model(X_and,y_and)\n",
        "print('Weight: ',W_and)\n",
        "print('Bias: ',b_and)"
      ],
      "execution_count": 75,
      "outputs": [
        {
          "output_type": "stream",
          "text": [
            "Weight:  [[2. 1.]]\n",
            "Bias:  -3\n"
          ],
          "name": "stdout"
        }
      ]
    },
    {
      "cell_type": "code",
      "metadata": {
        "id": "AZVdOotWZNOj",
        "colab_type": "code",
        "colab": {
          "base_uri": "https://localhost:8080/",
          "height": 52
        },
        "outputId": "8d4839be-c347-488c-ea7f-851e8b87e901"
      },
      "source": [
        "W_or,b_or = model(X_or,y_or)\n",
        "print('Weight: ',W_or)\n",
        "print('Bias: ',b_or)"
      ],
      "execution_count": 76,
      "outputs": [
        {
          "output_type": "stream",
          "text": [
            "Weight:  [[1. 1.]]\n",
            "Bias:  -1\n"
          ],
          "name": "stdout"
        }
      ]
    },
    {
      "cell_type": "code",
      "metadata": {
        "id": "WHtOpCpUamn3",
        "colab_type": "code",
        "colab": {
          "base_uri": "https://localhost:8080/",
          "height": 52
        },
        "outputId": "bfc9ea5a-7a32-4b38-b399-a92e49e8002d"
      },
      "source": [
        "W_nor,b_nor = model(X_nor,y_nor)\n",
        "print('Weight: ',W_nor)\n",
        "print('Bias: ',b_nor)"
      ],
      "execution_count": 77,
      "outputs": [
        {
          "output_type": "stream",
          "text": [
            "Weight:  [[-1. -1.]]\n",
            "Bias:  0\n"
          ],
          "name": "stdout"
        }
      ]
    },
    {
      "cell_type": "code",
      "metadata": {
        "id": "OzF8HhMQc0WX",
        "colab_type": "code",
        "colab": {
          "base_uri": "https://localhost:8080/",
          "height": 52
        },
        "outputId": "4ad3a70a-3e54-478c-a7e7-b39b36bb2332"
      },
      "source": [
        "W_nand,b_nand = model(X_nand,y_nand)\n",
        "print('Weight: ',W_nand)\n",
        "print('Bias: ',b_nand)"
      ],
      "execution_count": 78,
      "outputs": [
        {
          "output_type": "stream",
          "text": [
            "Weight:  [[-2. -1.]]\n",
            "Bias:  2\n"
          ],
          "name": "stdout"
        }
      ]
    },
    {
      "cell_type": "code",
      "metadata": {
        "id": "lCxUneKpdD_2",
        "colab_type": "code",
        "colab": {
          "base_uri": "https://localhost:8080/",
          "height": 52
        },
        "outputId": "07496bd6-da39-4553-d237-262b6ea7254a"
      },
      "source": [
        "W_not,b_not = model(X_not,y_not)\n",
        "print('Weight: ',W_not)\n",
        "print('Bias: ',b_not)"
      ],
      "execution_count": 79,
      "outputs": [
        {
          "output_type": "stream",
          "text": [
            "Weight:  [[-1.]]\n",
            "Bias:  0\n"
          ],
          "name": "stdout"
        }
      ]
    },
    {
      "cell_type": "code",
      "metadata": {
        "id": "cIUa0PXadlnJ",
        "colab_type": "code",
        "colab": {}
      },
      "source": [
        ""
      ],
      "execution_count": 0,
      "outputs": []
    }
  ]
}