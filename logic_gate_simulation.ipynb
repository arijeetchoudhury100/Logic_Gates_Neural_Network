{
 "cells": [
  {
   "cell_type": "markdown",
   "metadata": {
    "colab_type": "text",
    "id": "view-in-github"
   },
   "source": [
    "<a href=\"https://colab.research.google.com/github/arijeetchoudhury100/Logic_Gates_Neural_Network/blob/master/logic_gate_simulation.ipynb\" target=\"_parent\"><img src=\"https://colab.research.google.com/assets/colab-badge.svg\" alt=\"Open In Colab\"/></a>"
   ]
  },
  {
   "cell_type": "code",
   "execution_count": 0,
   "metadata": {
    "colab": {},
    "colab_type": "code",
    "id": "rMnlR-_rRie2"
   },
   "outputs": [],
   "source": [
    "#simulate AND,OR,NOT,NAND,NOR using single layer perceptron "
   ]
  },
  {
   "cell_type": "code",
   "execution_count": 1,
   "metadata": {
    "colab": {},
    "colab_type": "code",
    "id": "WbzuQc5jRlz6"
   },
   "outputs": [],
   "source": [
    "import numpy as np"
   ]
  },
  {
   "cell_type": "code",
   "execution_count": 2,
   "metadata": {
    "colab": {},
    "colab_type": "code",
    "id": "UE8Sri0BR2om"
   },
   "outputs": [],
   "source": [
    "def initialize(n_x):\n",
    "  W = np.zeros((1,n_x))\n",
    "  b = 0\n",
    "  return W,b"
   ]
  },
  {
   "cell_type": "code",
   "execution_count": 3,
   "metadata": {
    "colab": {},
    "colab_type": "code",
    "id": "lKS6YdQPUILf"
   },
   "outputs": [],
   "source": [
    "def hardlim(n):\n",
    "  if n<0:\n",
    "    return 0\n",
    "  else:\n",
    "    return 1"
   ]
  },
  {
   "cell_type": "code",
   "execution_count": 11,
   "metadata": {
    "colab": {},
    "colab_type": "code",
    "id": "iBhdefGzSS7y"
   },
   "outputs": [],
   "source": [
    "X_and = np.array([[0,0],[0,1],[1,0],[1,1]]).T\n",
    "y_and = np.array([0,0,0,1]).reshape(1,4)\n",
    "\n",
    "X_or = X_and\n",
    "y_or = np.array([0,1,1,1]).reshape(1,4)\n",
    "\n",
    "X_nand = X_and\n",
    "y_nand = np.array([1,1,1,0]).reshape(1,4)\n",
    "\n",
    "X_nor = X_and\n",
    "y_nor = np.array([1,0,0,0]).reshape(1,4)\n",
    "\n",
    "X_not = np.array([0,1]).reshape(1,2)\n",
    "y_not = np.array([1,0]).reshape(1,2)\n",
    "\n",
    "X_test = X_and\n",
    "y_test = np.array([0,0,1,0]).reshape(1,4)"
   ]
  },
  {
   "cell_type": "code",
   "execution_count": 20,
   "metadata": {
    "colab": {},
    "colab_type": "code",
    "id": "na3qB_MAS-7N"
   },
   "outputs": [],
   "source": [
    "def model(X,y):\n",
    "  W , b = initialize(X.shape[0])\n",
    "  itr = 0\n",
    "  while True:\n",
    "    W_old = W\n",
    "    b_old = b\n",
    "    itr += 1\n",
    "    for i in range(X.shape[1]):\n",
    "      a = hardlim(np.dot(W,X[:,i].reshape(X.shape[0],1)) + b)\n",
    "      e = y[0][i] - a\n",
    "      W = W + e*X[:,i].reshape(1,X.shape[0])\n",
    "      b = b + e\n",
    "      print(W)\n",
    "      print(b)\n",
    "    if np.array_equal(W_old,W) and b_old == b:\n",
    "      break\n",
    "  return itr,W,b"
   ]
  },
  {
   "cell_type": "code",
   "execution_count": 16,
   "metadata": {
    "colab": {
     "base_uri": "https://localhost:8080/",
     "height": 52
    },
    "colab_type": "code",
    "id": "IOJH99K6UwKK",
    "outputId": "75225050-37ad-4c9b-f884-872881c0b91e"
   },
   "outputs": [
    {
     "name": "stdout",
     "output_type": "stream",
     "text": [
      "Weight:  [[2. 1.]]\n",
      "Bias:  -3\n"
     ]
    }
   ],
   "source": [
    "_,W_and,b_and = model(X_and,y_and)\n",
    "print('Weight: ',W_and)\n",
    "print('Bias: ',b_and)"
   ]
  },
  {
   "cell_type": "code",
   "execution_count": 7,
   "metadata": {
    "colab": {
     "base_uri": "https://localhost:8080/",
     "height": 52
    },
    "colab_type": "code",
    "id": "AZVdOotWZNOj",
    "outputId": "8d4839be-c347-488c-ea7f-851e8b87e901"
   },
   "outputs": [
    {
     "name": "stdout",
     "output_type": "stream",
     "text": [
      "Weight:  [[1. 1.]]\n",
      "Bias:  -1\n"
     ]
    }
   ],
   "source": [
    "_,W_or,b_or = model(X_or,y_or)\n",
    "print('Weight: ',W_or)\n",
    "print('Bias: ',b_or)"
   ]
  },
  {
   "cell_type": "code",
   "execution_count": 8,
   "metadata": {
    "colab": {
     "base_uri": "https://localhost:8080/",
     "height": 52
    },
    "colab_type": "code",
    "id": "WHtOpCpUamn3",
    "outputId": "bfc9ea5a-7a32-4b38-b399-a92e49e8002d"
   },
   "outputs": [
    {
     "name": "stdout",
     "output_type": "stream",
     "text": [
      "Weight:  [[-1. -1.]]\n",
      "Bias:  0\n"
     ]
    }
   ],
   "source": [
    "_,W_nor,b_nor = model(X_nor,y_nor)\n",
    "print('Weight: ',W_nor)\n",
    "print('Bias: ',b_nor)"
   ]
  },
  {
   "cell_type": "code",
   "execution_count": 9,
   "metadata": {
    "colab": {
     "base_uri": "https://localhost:8080/",
     "height": 52
    },
    "colab_type": "code",
    "id": "OzF8HhMQc0WX",
    "outputId": "4ad3a70a-3e54-478c-a7e7-b39b36bb2332"
   },
   "outputs": [
    {
     "name": "stdout",
     "output_type": "stream",
     "text": [
      "Weight:  [[-2. -1.]]\n",
      "Bias:  2\n"
     ]
    }
   ],
   "source": [
    "_,W_nand,b_nand = model(X_nand,y_nand)\n",
    "print('Weight: ',W_nand)\n",
    "print('Bias: ',b_nand)"
   ]
  },
  {
   "cell_type": "code",
   "execution_count": 10,
   "metadata": {
    "colab": {
     "base_uri": "https://localhost:8080/",
     "height": 52
    },
    "colab_type": "code",
    "id": "lCxUneKpdD_2",
    "outputId": "07496bd6-da39-4553-d237-262b6ea7254a"
   },
   "outputs": [
    {
     "name": "stdout",
     "output_type": "stream",
     "text": [
      "Weight:  [[-1.]]\n",
      "Bias:  0\n"
     ]
    }
   ],
   "source": [
    "_,W_not,b_not = model(X_not,y_not)\n",
    "print('Weight: ',W_not)\n",
    "print('Bias: ',b_not)"
   ]
  },
  {
   "cell_type": "code",
   "execution_count": 21,
   "metadata": {
    "colab": {},
    "colab_type": "code",
    "id": "cIUa0PXadlnJ"
   },
   "outputs": [
    {
     "name": "stdout",
     "output_type": "stream",
     "text": [
      "[[0. 0.]]\n",
      "-1\n",
      "[[0. 0.]]\n",
      "-1\n",
      "[[1. 0.]]\n",
      "0\n",
      "[[ 0. -1.]]\n",
      "-1\n",
      "[[ 0. -1.]]\n",
      "-1\n",
      "[[ 0. -1.]]\n",
      "-1\n",
      "[[ 1. -1.]]\n",
      "0\n",
      "[[ 0. -2.]]\n",
      "-1\n",
      "[[ 0. -2.]]\n",
      "-1\n",
      "[[ 0. -2.]]\n",
      "-1\n",
      "[[ 1. -2.]]\n",
      "0\n",
      "[[ 1. -2.]]\n",
      "0\n",
      "[[ 1. -2.]]\n",
      "-1\n",
      "[[ 1. -2.]]\n",
      "-1\n",
      "[[ 1. -2.]]\n",
      "-1\n",
      "[[ 1. -2.]]\n",
      "-1\n",
      "[[ 1. -2.]]\n",
      "-1\n",
      "[[ 1. -2.]]\n",
      "-1\n",
      "[[ 1. -2.]]\n",
      "-1\n",
      "[[ 1. -2.]]\n",
      "-1\n",
      "Weight:  [[ 1. -2.]]\n",
      "Bias:  -1\n",
      "5\n"
     ]
    }
   ],
   "source": [
    "itr,W_test,b_test = model(X_test,y_test)\n",
    "print('Weight: ',W_test)\n",
    "print('Bias: ',b_test)\n",
    "print(itr)"
   ]
  },
  {
   "cell_type": "code",
   "execution_count": null,
   "metadata": {},
   "outputs": [],
   "source": []
  }
 ],
 "metadata": {
  "colab": {
   "authorship_tag": "ABX9TyMXdw5IA3cShh58QCud8mYt",
   "include_colab_link": true,
   "name": "Untitled3.ipynb",
   "provenance": []
  },
  "kernelspec": {
   "display_name": "Python 3",
   "language": "python",
   "name": "python3"
  },
  "language_info": {
   "codemirror_mode": {
    "name": "ipython",
    "version": 3
   },
   "file_extension": ".py",
   "mimetype": "text/x-python",
   "name": "python",
   "nbconvert_exporter": "python",
   "pygments_lexer": "ipython3",
   "version": "3.7.1"
  }
 },
 "nbformat": 4,
 "nbformat_minor": 1
}
